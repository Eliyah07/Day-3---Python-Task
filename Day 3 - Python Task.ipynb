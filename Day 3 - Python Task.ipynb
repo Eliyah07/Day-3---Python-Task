{
 "cells": [
  {
   "cell_type": "markdown",
   "metadata": {},
   "source": [
    "                   EXERCISE\n",
    "(1) Write a python script to merge two python dictionaries."
   ]
  },
  {
   "cell_type": "code",
   "execution_count": 5,
   "metadata": {},
   "outputs": [
    {
     "name": "stdout",
     "output_type": "stream",
     "text": [
      "updated dictionary\n",
      "{1: 'Eliya', 2: 'Lazaro', 3: 'Kelvin', 'one': 'Loyola', 'two': 'Mabibo', 'three': 'Kisarawe'}\n"
     ]
    }
   ],
   "source": [
    "dict_one =  {1:'Eliya',2:'Lazaro',3:'Kelvin'}\n",
    "dict_two =  {'one':'Loyola','two':'Mabibo','three' :'Kisarawe'}\n",
    "\n",
    "#merges the contents in dict_twwo to dict-one\n",
    "dict_one.update(dict_two)\n",
    "print(\"updated dictionary\")\n",
    "print(dict_one)"
   ]
  },
  {
   "cell_type": "markdown",
   "metadata": {},
   "source": [
    "(2) Write a python program to remove a key from a dictionary."
   ]
  },
  {
   "cell_type": "code",
   "execution_count": 6,
   "metadata": {},
   "outputs": [
    {
     "name": "stdout",
     "output_type": "stream",
     "text": [
      "{2: 'Lazaro', 3: 'Kelvin'}\n"
     ]
    }
   ],
   "source": [
    "dict_one =  {1:'Eliya',2:'Lazaro',3:'Kelvin'}\n",
    "\n",
    "#removes a key from a dictionary\n",
    "del dict_one[1]\n",
    "print(dict_one)"
   ]
  },
  {
   "cell_type": "markdown",
   "metadata": {},
   "source": [
    "(3) Write a python program to map two lists into a dictionary."
   ]
  },
  {
   "cell_type": "code",
   "execution_count": 8,
   "metadata": {},
   "outputs": [
    {
     "name": "stdout",
     "output_type": "stream",
     "text": [
      "{'yvonne': 'england', 'lazaro': 'tanzania', 'moses': 'malawi'}\n"
     ]
    }
   ],
   "source": [
    "names=['yvonne','lazaro','moses']\n",
    "country=['england','tanzania','malawi']\n",
    "names_country=dict (zip(names,country))\n",
    "\n",
    "print(names_country)"
   ]
  },
  {
   "cell_type": "markdown",
   "metadata": {},
   "source": [
    "(4) Write a python program to find the length of a set."
   ]
  },
  {
   "cell_type": "code",
   "execution_count": 9,
   "metadata": {},
   "outputs": [
    {
     "data": {
      "text/plain": [
       "3"
      ]
     },
     "execution_count": 9,
     "metadata": {},
     "output_type": "execute_result"
    }
   ],
   "source": [
    "food={'pizza','burger','sandwich'}\n",
    "len(food)"
   ]
  },
  {
   "cell_type": "markdown",
   "metadata": {},
   "source": [
    "(5) Write a python progrma to remove the intersection of a 2nd set from the 1st set"
   ]
  },
  {
   "cell_type": "code",
   "execution_count": 16,
   "metadata": {},
   "outputs": [
    {
     "name": "stdout",
     "output_type": "stream",
     "text": [
      "{1, 2, 3, 4, 5, 6, 7, 8, 9, 10}\n",
      "{4, 5, 6, 7}\n",
      "{1, 2, 3, 8, 9, 10}\n",
      "{1, 2, 3, 8, 9, 10}\n"
     ]
    }
   ],
   "source": [
    "nums_one={1,2,3,4,5,6,7,8,9,10}\n",
    "nums_two={4,5,6,7}\n",
    "print(nums_one)\n",
    "print(nums_two)\n",
    "\n",
    "#removing an intersection using difference_update()\n",
    "\n",
    "nums_one.difference_update(nums_two)\n",
    "print(nums_one)\n",
    "\n",
    "#removing an intersection using '-' operator\n",
    "\n",
    "nums_one-nums_two\n",
    "print(nums_one)"
   ]
  }
 ],
 "metadata": {
  "kernelspec": {
   "display_name": "Python 3",
   "language": "python",
   "name": "python3"
  },
  "language_info": {
   "codemirror_mode": {
    "name": "ipython",
    "version": 3
   },
   "file_extension": ".py",
   "mimetype": "text/x-python",
   "name": "python",
   "nbconvert_exporter": "python",
   "pygments_lexer": "ipython3",
   "version": "3.8.3"
  }
 },
 "nbformat": 4,
 "nbformat_minor": 4
}
